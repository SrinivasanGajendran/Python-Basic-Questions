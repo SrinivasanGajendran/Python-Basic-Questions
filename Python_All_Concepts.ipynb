{
 "cells": [
  {
   "cell_type": "code",
   "execution_count": 1,
   "id": "14205e68",
   "metadata": {},
   "outputs": [
    {
     "name": "stdout",
     "output_type": "stream",
     "text": [
      "Hello World\n"
     ]
    }
   ],
   "source": [
    "print('Hello World')"
   ]
  },
  {
   "cell_type": "code",
   "execution_count": 10,
   "id": "875109af",
   "metadata": {},
   "outputs": [
    {
     "name": "stdout",
     "output_type": "stream",
     "text": [
      "List [2, 4, 6, 8]\n",
      "Dict {2: 4, 4: 16, 6: 36, 8: 64}\n"
     ]
    }
   ],
   "source": [
    "#list\n",
    "\n",
    "a = [1,2,3,4,5,6,7,8,9]\n",
    "\n",
    "b = [x for x in a if x%2 == 0]\n",
    "print('List',b)\n",
    "\n",
    "#dict\n",
    "\n",
    "d = {i : i**2 for i in range(1,10) if i%2 == 0}\n",
    "print('Dict',d)\n",
    "\n"
   ]
  },
  {
   "cell_type": "code",
   "execution_count": 17,
   "id": "2541f357",
   "metadata": {},
   "outputs": [
    {
     "name": "stdout",
     "output_type": "stream",
     "text": [
      "Passing One Value 25\n",
      "Passing Two Value For lambda 15\n",
      "Check a number is even or not False\n"
     ]
    }
   ],
   "source": [
    "#Lambda\n",
    "\n",
    "square = lambda x:x**2\n",
    "print('Passing One Value',square(5))\n",
    "\n",
    "addition = lambda x,y : x+y\n",
    "print('Passing Two Value For lambda',addition(5,10))\n",
    "\n",
    "check_even = lambda x : x%2 == 0\n",
    "print('Check a number is even or not',check_even(9))\n"
   ]
  },
  {
   "cell_type": "code",
   "execution_count": 26,
   "id": "db84065c",
   "metadata": {},
   "outputs": [
    {
     "name": "stdout",
     "output_type": "stream",
     "text": [
      "square [1, 4, 9, 16, 25]\n",
      "Two values [7, 9, 11, 13, 5]\n",
      "[7, 9, 11, 13, 5]\n"
     ]
    }
   ],
   "source": [
    "#map\n",
    "\n",
    "def square(x):\n",
    "    return x*x\n",
    "\n",
    "numbers = [1,2,3,4,5]\n",
    "numbers_2 = [6,7,8,9,0]\n",
    "\n",
    "result = map(square, numbers)\n",
    "print('square',list(result))\n",
    "\n",
    "def addition(x,y):\n",
    "    return x+y\n",
    "\n",
    "result_1 = map(addition, numbers, numbers_2)\n",
    "print('Two values',list(result_1))\n",
    "\n",
    "res = map(lambda x,y : x+y, numbers,numbers_2)\n",
    "print(list(res))"
   ]
  },
  {
   "cell_type": "code",
   "execution_count": 33,
   "id": "b7cf61ab",
   "metadata": {},
   "outputs": [
    {
     "name": "stdout",
     "output_type": "stream",
     "text": [
      "[2, 4]\n",
      "[2, 4]\n"
     ]
    }
   ],
   "source": [
    "#filter\n",
    "\n",
    "def is_even(x):\n",
    "    return x %2 == 0\n",
    "\n",
    "result = filter(is_even, numbers)\n",
    "print(list(result))\n",
    "\n",
    "#filter with lambda\n",
    "\n",
    "result_1 = filter(lambda x : x%2 == 0, numbers)\n",
    "print(list(result_1))"
   ]
  },
  {
   "cell_type": "code",
   "execution_count": 1,
   "id": "93cd2a9e",
   "metadata": {},
   "outputs": [
    {
     "name": "stdout",
     "output_type": "stream",
     "text": [
      "hello\n",
      "hi my name is srini and i am 28 yrs old\n"
     ]
    }
   ],
   "source": [
    "#class and objects\n",
    "\n",
    "class A():\n",
    "    def name(self):\n",
    "        print('hello')\n",
    "obj = A()\n",
    "obj.name()\n",
    "\n",
    "#class with constructor\n",
    "\n",
    "class B():\n",
    "    def __init__(self,name,age):\n",
    "        self.name = name\n",
    "        self.age = age\n",
    "    \n",
    "    def details(self):\n",
    "        print(f'hi my name is {self.name} and i am {self.age} yrs old')\n",
    "\n",
    "obj1 = B('srini',28)\n",
    "obj1.details()"
   ]
  },
  {
   "cell_type": "code",
   "execution_count": 4,
   "id": "1d977e54",
   "metadata": {},
   "outputs": [
    {
     "name": "stdout",
     "output_type": "stream",
     "text": [
      "hi my name is Srini and i am 28 yrs old\n"
     ]
    }
   ],
   "source": [
    "#Inheritance\n",
    "\n",
    "class A():\n",
    "    def __init__ (self,name,age):\n",
    "        self.name= name\n",
    "        self.age = age\n",
    "        \n",
    "class B(A):\n",
    "    def na_me(self):\n",
    "        print(f'hi my name is {self.name} and i am {self.age} yrs old')\n",
    "\n",
    "obj = B('Srini',28)\n",
    "obj.na_me()        "
   ]
  },
  {
   "cell_type": "code",
   "execution_count": 11,
   "id": "a4170db8",
   "metadata": {},
   "outputs": [
    {
     "name": "stdout",
     "output_type": "stream",
     "text": [
      "Alice\n",
      "30\n"
     ]
    }
   ],
   "source": [
    "#Encapsulation\n",
    "\n",
    "class Person:\n",
    "    def __init__(self, name, age):\n",
    "        self.name = name\n",
    "        self._age = age  # Private attribute\n",
    "\n",
    "    def get_age(self):\n",
    "        #print()\n",
    "        return self._age\n",
    "\n",
    "    def set_age(self, age):\n",
    "        if age > 0:\n",
    "            self._age = age\n",
    "\n",
    "person = Person(\"Alice\", 30)\n",
    "print(person.name)\n",
    "print(person.get_age())  # Accessing the private attribute using a public method\n"
   ]
  },
  {
   "cell_type": "code",
   "execution_count": 15,
   "id": "766a6851",
   "metadata": {},
   "outputs": [
    {
     "data": {
      "text/plain": [
       "[0, 1, 1, 2, 3, 5, 8, 13, 21, 34]"
      ]
     },
     "execution_count": 15,
     "metadata": {},
     "output_type": "execute_result"
    }
   ],
   "source": [
    "def fibo(x):\n",
    "    fib = []\n",
    "    a,b = 0,1\n",
    "    for _ in range(x):\n",
    "        fib.append(a)\n",
    "        a,b = b, a+b\n",
    "    return fib\n",
    "fibo(10)"
   ]
  },
  {
   "cell_type": "code",
   "execution_count": 28,
   "id": "4efca22d",
   "metadata": {},
   "outputs": [
    {
     "name": "stdout",
     "output_type": "stream",
     "text": [
      "not a palindrome\n"
     ]
    }
   ],
   "source": [
    "def pal(a):\n",
    "    if a == a[::-1]:\n",
    "        print('palidrome')\n",
    "    else:\n",
    "        print('not a palindrome')\n",
    "pal('srini')"
   ]
  },
  {
   "cell_type": "code",
   "execution_count": 41,
   "id": "6aa4dd34",
   "metadata": {},
   "outputs": [
    {
     "name": "stdout",
     "output_type": "stream",
     "text": [
      "3\n",
      "5\n"
     ]
    },
    {
     "data": {
      "text/plain": [
       "False"
      ]
     },
     "execution_count": 41,
     "metadata": {},
     "output_type": "execute_result"
    }
   ],
   "source": [
    "def is_prime(num):\n",
    "    if num <= 1:\n",
    "        return False\n",
    "    elif num == 2:\n",
    "        return True\n",
    "    elif num % 2 == 0:\n",
    "        return False\n",
    "    \n",
    "    # Check for factors from 3 to the square root of the number\n",
    "    for i in range(3, int(num**0.5) + 1, 2):\n",
    "        print(i)\n",
    "        if num % i == 0:\n",
    "            return False\n",
    "\n",
    "    return True\n",
    "is_prime(25)"
   ]
  },
  {
   "cell_type": "code",
   "execution_count": 48,
   "id": "94323e2f",
   "metadata": {},
   "outputs": [
    {
     "name": "stdout",
     "output_type": "stream",
     "text": [
      "Anagram\n"
     ]
    }
   ],
   "source": [
    "def Anagram_Check(x,y):\n",
    "    count = 0\n",
    "    for i in x:\n",
    "        if i in y:\n",
    "            continue\n",
    "        else:\n",
    "            count +=1\n",
    "    if count==0:\n",
    "        print('Anagram')\n",
    "    else:\n",
    "        print('not a angaram')\n",
    "Anagram_Check('srini','srni')"
   ]
  },
  {
   "cell_type": "code",
   "execution_count": 50,
   "id": "48dd8df7",
   "metadata": {},
   "outputs": [
    {
     "name": "stdout",
     "output_type": "stream",
     "text": [
      "{'(': 3, ')': 4}\n"
     ]
    },
    {
     "data": {
      "text/plain": [
       "False"
      ]
     },
     "execution_count": 50,
     "metadata": {},
     "output_type": "execute_result"
    }
   ],
   "source": [
    "def check_par(a):\n",
    "    d = {}\n",
    "    for i in a :\n",
    "        if i in d:\n",
    "            d[i] +=1\n",
    "        else:\n",
    "            d[i] = 1\n",
    "    print(d)\n",
    "    \n",
    "    if d['('] in d and d[')'] in d:\n",
    "        return d[key1] == d[key2]\n",
    "    return False\n",
    "    \n",
    "check_par('((())))')"
   ]
  },
  {
   "cell_type": "code",
   "execution_count": 53,
   "id": "cd16c14b",
   "metadata": {},
   "outputs": [
    {
     "name": "stdout",
     "output_type": "stream",
     "text": [
      "[1, 4, 9, 16, 25, 36, 49, 64, 81, 100]\n"
     ]
    }
   ],
   "source": [
    "def sqr(n):\n",
    "    a = [x**2 for x in range(1,n+1)]\n",
    "    print(a)\n",
    "sqr(10)"
   ]
  },
  {
   "cell_type": "code",
   "execution_count": 59,
   "id": "76e3995a",
   "metadata": {},
   "outputs": [
    {
     "name": "stdout",
     "output_type": "stream",
     "text": [
      "[0, 1, 2, 3, 4, 5, 6, 7, 8, 9]\n"
     ]
    }
   ],
   "source": [
    "def sort_ed(a,b):\n",
    "    c = a+b\n",
    "    c.sort()\n",
    "    print(c)\n",
    "a = [1,2,3,4,5]\n",
    "b = [6,7,8,9,0]\n",
    "sort_ed(a,b)"
   ]
  },
  {
   "cell_type": "code",
   "execution_count": 65,
   "id": "d889219e",
   "metadata": {},
   "outputs": [
    {
     "name": "stdout",
     "output_type": "stream",
     "text": [
      "7\n"
     ]
    }
   ],
   "source": [
    "def ret_sec_largest(a):\n",
    "    a.sort()\n",
    "    print(a[-2])\n",
    "a = [1,2,3,6,5,4,7,9]\n",
    "ret_sec_largest(a)"
   ]
  },
  {
   "cell_type": "code",
   "execution_count": 75,
   "id": "bcbd9803",
   "metadata": {},
   "outputs": [
    {
     "name": "stdout",
     "output_type": "stream",
     "text": [
      "7\n"
     ]
    }
   ],
   "source": [
    "def find_missing_number(n):\n",
    "    for i in range(1,len(n)):\n",
    "        if i not in n:\n",
    "            print(i)\n",
    "            break\n",
    "a = [2,3,6,5,4,8,9,1]\n",
    "find_missing_number(a)"
   ]
  },
  {
   "cell_type": "code",
   "execution_count": 76,
   "id": "4c9eed9d",
   "metadata": {},
   "outputs": [
    {
     "name": "stdout",
     "output_type": "stream",
     "text": [
      "[5]\n"
     ]
    }
   ],
   "source": [
    "def common_list(x,y,z):\n",
    "    w = []\n",
    "    for i in x:\n",
    "        if i in y and i in z:\n",
    "            w.append(i)\n",
    "    print(w)\n",
    "x= [1,2,3,4,5,6]\n",
    "y = [11,22,5,9,6,25,3647]\n",
    "z = [7,8,9,4,5]\n",
    "common_list(x,y,z)"
   ]
  },
  {
   "cell_type": "code",
   "execution_count": 83,
   "id": "38bbde65",
   "metadata": {},
   "outputs": [
    {
     "name": "stdout",
     "output_type": "stream",
     "text": [
      "*\n",
      "**\n",
      "***\n",
      "****\n",
      "*****\n"
     ]
    }
   ],
   "source": [
    "def patterns(n):\n",
    "    for i in range(1,n+1):\n",
    "        print('*'*i)\n",
    "patterns(5)"
   ]
  },
  {
   "cell_type": "code",
   "execution_count": null,
   "id": "d034de1f",
   "metadata": {},
   "outputs": [],
   "source": []
  }
 ],
 "metadata": {
  "kernelspec": {
   "display_name": "Python 3 (ipykernel)",
   "language": "python",
   "name": "python3"
  },
  "language_info": {
   "codemirror_mode": {
    "name": "ipython",
    "version": 3
   },
   "file_extension": ".py",
   "mimetype": "text/x-python",
   "name": "python",
   "nbconvert_exporter": "python",
   "pygments_lexer": "ipython3",
   "version": "3.11.2"
  }
 },
 "nbformat": 4,
 "nbformat_minor": 5
}
